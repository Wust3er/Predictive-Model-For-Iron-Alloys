{
 "cells": [
  {
   "cell_type": "markdown",
   "metadata": {},
   "source": [
    "Code to Model the Alloy Composition"
   ]
  },
  {
   "cell_type": "code",
   "execution_count": 6,
   "metadata": {},
   "outputs": [],
   "source": [
    "import pandas as pd\n",
    "import numpy as np\n",
    "from sklearn.svm import SVR\n",
    "from sklearn.model_selection import train_test_split\n",
    "from sklearn.preprocessing import StandardScaler\n",
    "from sklearn.metrics import mean_absolute_error, mean_squared_error\n",
    "\n",
    "# Load the dataset\n",
    "file_path = \"Alloys(Comp&MeltTemp).csv\"\n",
    "data = pd.read_csv(file_path)\n",
    "\n",
    "# Replace NaN values with zeros\n",
    "data = data.fillna(0)\n",
    "\n",
    "# Extract relevant features: Iron min and max compositions for other elements\n",
    "composition_features = [\"Iron (Fe)Fe min\"] + [col for col in data.columns if \"max\" in col]\n",
    "X = data[composition_features]  # Input features\n",
    "\n",
    "y = data[\"Melting Onset (Solidus) (F)\"]  # Target variable\n",
    "\n",
    "# Standardize the data (SVR performs better with scaled data)\n",
    "scaler_X = StandardScaler()\n",
    "scaler_y = StandardScaler()\n",
    "\n",
    "X_scaled = scaler_X.fit_transform(X)\n",
    "y_scaled = scaler_y.fit_transform(y.values.reshape(-1, 1)).ravel()\n",
    "\n",
    "# Split the data into training and testing sets\n",
    "X_train, X_test, y_train, y_test = train_test_split(X_scaled, y_scaled, test_size=0.2, random_state=42)\n",
    "\n",
    "# Create and train the SVR model\n",
    "svr_model = SVR(kernel='rbf', C=1.0, epsilon=0.1)\n",
    "svr_model.fit(X_train, y_train)\n",
    "\n",
    "# Evaluate the model's performance\n",
    "y_pred_scaled = svr_model.predict(X_test)\n",
    "y_pred = scaler_y.inverse_transform(y_pred_scaled.reshape(-1, 1)).ravel()  # Transform predictions back to original scale\n",
    "\n",
    "mae = mean_absolute_error(scaler_y.inverse_transform(y_test.reshape(-1, 1)).ravel(), y_pred)\n",
    "mse = mean_squared_error(scaler_y.inverse_transform(y_test.reshape(-1, 1)).ravel(), y_pred)\n",
    "print(f\"Mean Absolute Error: {mae}\")\n",
    "print(f\"Mean Squared Error: {mse}\")\n",
    "\n",
    "\n",
    "\n",
    "# Example alloy composition\n",
    "new_data = {\n",
    "    \"Iron (Fe)Fe min\": 80.0,\n",
    "    \"Carbon (C)C max\": 12.6,\n",
    "    \"Silicon (Si)Si max\": 2.5,\n",
    "    \"Manganese (Mn)Mn max\": 0.8,\n",
    "    \"Phosphorus (P)P max\": 0.1,\n",
    "    \"Sulfur (S)S max\": 0.14,\n",
    "    \"Chromium (Cr)Cr max\": 0.6,\n",
    "    \"Molybdenum (Mo)Mo max\": 0.3,\n",
    "    \"Nickel (Ni)Ni max\": 1.2,\n",
    "    \"Copper (Cu)Cu max\": 0.3,\n",
    "    \"Vanadium (V)V max\": 0.1,\n",
    "    \"Aluminum (Al)Al max\": 0.02,\n",
    "    \"Magnesium (Mg)Mg max\": 0.01,\n",
    "    \"Selenium (Se)Se max\": 0.01,\n",
    "    \"Tin (Sn)Sn max\": 0.01,\n",
    "    \"Arsenic (As)As max\": 0.01\n",
    "}\n",
    "\n",
    "# Convert to DataFrame\n",
    "example_input = pd.DataFrame([new_data], columns=composition_features)\n",
    "\n",
    "# Check for missing values in example_input\n",
    "#print(\"Any NaN in example_input before normalization:\", example_input.isnull().values.any())\n",
    "\n",
    "# Ensure total composition sums to 100\n",
    "if example_input.sum(axis=1).iloc[0] != 100:\n",
    "    print(\"Normalizing composition to sum to 100...\")\n",
    "    example_input = example_input.div(example_input.sum(axis=1), axis=0) * 100\n",
    "\n",
    "# Replace any remaining NaN values\n",
    "example_input = example_input.fillna(0)\n",
    "\n",
    "# Scale the input\n",
    "example_input_scaled = scaler_X.transform(example_input)\n",
    "\n",
    "# Assert no NaN or infinite values\n",
    "assert not np.isnan(example_input_scaled).any(), \"Scaled input contains NaN values!\"\n",
    "assert not np.isinf(example_input_scaled).any(), \"Scaled input contains infinite values!\"\n",
    "\n",
    "# Predict the melting onset temperature\n",
    "predicted_temp_scaled = svr_model.predict(example_input_scaled)\n",
    "predicted_temp = scaler_y.inverse_transform(predicted_temp_scaled.reshape(-1, 1)).ravel()\n",
    "\n",
    "print(f\"Predicted Melting Onset Temperature: {predicted_temp[0]} F\")"
   ]
  }
 ],
 "metadata": {
  "hide_input": false,
  "kernelspec": {
   "display_name": "base",
   "language": "python",
   "name": "python3"
  },
  "language_info": {
   "codemirror_mode": {
    "name": "ipython",
    "version": 3
   },
   "file_extension": ".py",
   "mimetype": "text/x-python",
   "name": "python",
   "nbconvert_exporter": "python",
   "pygments_lexer": "ipython3",
   "version": "3.11.4"
  },
  "latex_envs": {
   "LaTeX_envs_menu_present": true,
   "autoclose": false,
   "autocomplete": false,
   "bibliofile": "biblio.bib",
   "cite_by": "apalike",
   "current_citInitial": 1,
   "eqLabelWithNumbers": true,
   "eqNumInitial": 1,
   "hotkeys": {
    "equation": "Ctrl-E",
    "itemize": "Ctrl-I"
   },
   "labels_anchors": false,
   "latex_user_defs": false,
   "report_style_numbering": false,
   "user_envs_cfg": false
  },
  "toc": {
   "base_numbering": 1,
   "colors": {
    "hover_highlight": "#DAA520",
    "navigate_num": "#000000",
    "navigate_text": "#333333",
    "running_highlight": "#FF0000",
    "selected_highlight": "#FFD700",
    "sidebar_border": "#EEEEEE",
    "wrapper_background": "#FFFFFF"
   },
   "moveMenuLeft": true,
   "nav_menu": {},
   "navigate_menu": true,
   "number_sections": false,
   "sideBar": true,
   "skip_h1_title": false,
   "threshold": 4,
   "title_cell": "Table of Contents",
   "title_sidebar": "Contents",
   "toc_cell": false,
   "toc_position": {},
   "toc_section_display": true,
   "toc_window_display": false,
   "widenNotebook": false
  },
  "varInspector": {
   "cols": {
    "lenName": 16,
    "lenType": 16,
    "lenVar": 40
   },
   "kernels_config": {
    "python": {
     "delete_cmd_postfix": "",
     "delete_cmd_prefix": "del ",
     "library": "var_list.py",
     "varRefreshCmd": "print(var_dic_list())"
    },
    "r": {
     "delete_cmd_postfix": ") ",
     "delete_cmd_prefix": "rm(",
     "library": "var_list.r",
     "varRefreshCmd": "cat(var_dic_list()) "
    }
   },
   "types_to_exclude": [
    "module",
    "function",
    "builtin_function_or_method",
    "instance",
    "_Feature"
   ],
   "window_display": false
  }
 },
 "nbformat": 4,
 "nbformat_minor": 2
}
